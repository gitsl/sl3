{
 "cells": [
  {
   "cell_type": "markdown",
   "id": "ff91ad2e",
   "metadata": {
    "id": "ff91ad2e"
   },
   "source": [
    "# Assignment No. 09"
   ]
  },
  {
   "cell_type": "markdown",
   "id": "b4fb5866",
   "metadata": {
    "id": "b4fb5866"
   },
   "source": [
    "# Problem Statement :: Data Visualization II\n",
    "Use the inbuilt dataset 'titanic' as used in the above problem. \n",
    "1. Plot a box plot for distribution of age with respect to each gender along \n",
    "with the information about whether they survived or not. (Column names : 'sex' and 'age')\n",
    "2. Write observations on the inference from the above statistics.\n"
   ]
  },
  {
   "cell_type": "code",
   "execution_count": null,
   "id": "7febb18c",
   "metadata": {
    "id": "7febb18c"
   },
   "outputs": [],
   "source": [
    "import seaborn as sns\n",
    "import matplotlib.pyplot as plt"
   ]
  },
  {
   "cell_type": "code",
   "execution_count": null,
   "id": "8ec75708",
   "metadata": {
    "id": "8ec75708"
   },
   "outputs": [],
   "source": [
    "dataset = sns.load_dataset(\"titanic\")\n",
    "dataset.head()"
   ]
  },
  {
   "cell_type": "code",
   "execution_count": null,
   "id": "65dee2a0",
   "metadata": {
    "id": "65dee2a0",
    "outputId": "d14ed289-029f-4304-8732-da4de77bd4bd"
   },
   "outputs": [],
   "source": [
    "sns.boxplot(x='sex', y='age', data=dataset)"
   ]
  },
  {
   "cell_type": "code",
   "execution_count": null,
   "id": "65df2a69",
   "metadata": {
    "id": "65df2a69",
    "outputId": "455b55db-b993-4dea-e3c5-9a2cfb629dc3"
   },
   "outputs": [],
   "source": [
    "sns.boxplot(x='sex', y='age', data=dataset, hue='survived')"
   ]
  }
 ],
 "metadata": {
  "colab": {
   "provenance": []
  },
  "kernelspec": {
   "display_name": "Python 3 (ipykernel)",
   "language": "python",
   "name": "python3"
  },
  "language_info": {
   "codemirror_mode": {
    "name": "ipython",
    "version": 3
   },
   "file_extension": ".py",
   "mimetype": "text/x-python",
   "name": "python",
   "nbconvert_exporter": "python",
   "pygments_lexer": "ipython3",
   "version": "3.12.2"
  }
 },
 "nbformat": 4,
 "nbformat_minor": 5
}
